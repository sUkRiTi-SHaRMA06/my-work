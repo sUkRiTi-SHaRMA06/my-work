{
  "nbformat": 4,
  "nbformat_minor": 0,
  "metadata": {
    "colab": {
      "name": "Untitled13.ipynb",
      "provenance": []
    },
    "kernelspec": {
      "name": "python3",
      "display_name": "Python 3"
    },
    "language_info": {
      "name": "python"
    }
  },
  "cells": [
    {
      "cell_type": "code",
      "execution_count": 42,
      "metadata": {
        "colab": {
          "base_uri": "https://localhost:8080/"
        },
        "id": "AWg1hv67qWPg",
        "outputId": "70efc84c-9b46-4e47-ac53-75b47c0f9563"
      },
      "outputs": [
        {
          "output_type": "stream",
          "name": "stdout",
          "text": [
            "(1, 2, 5, 7, 9)\n",
            "(2, 4, 6, 8, 10)\n",
            "(0, 2, 4, 6, 8, 10)\n",
            "(1, 2, 5, 7, 9, 2, 4, 6, 8, 10, 11, 13, 15)\n",
            "15\n",
            "1\n"
          ]
        }
      ],
      "source": [
        "#16. Consider a tuple t1=(1,2,5,7,9,2,4,6,8,10). Write a program to perform following operations: \n",
        "#a. Print half the values of tuple in one line and the other half in the next line.\n",
        "# b. Print another tuple whose values are even numbers in the given tuple. \n",
        "#c. Concatenate a tuple t2=(11,13,15) witht1. \n",
        "#d. Return maximum and minimum value from this tuple.\n",
        "t1=(1,2,5,7,9,2,4,6,8,10)\n",
        "#a\n",
        "t1=(1,2,5,7,9,2,4,6,8,10)\n",
        "a=int(len(t1)/2)\n",
        "print(t1[:a])\n",
        "print(t1[a:])\n",
        "\n",
        "#b\n",
        "t1=(1,2,5,7,9,2,4,6,8,10)\n",
        "t2=[]\n",
        "for i in range(len(t1)+1):\n",
        "   if(i%2==0):\n",
        "     t2.append(i)\n",
        "   else:\n",
        "     continue\n",
        "t2=tuple(t2)\n",
        "print(tuple(t2))\n",
        "\n",
        "#c\n",
        "t1=(1,2,5,7,9,2,4,6,8,10)\n",
        "t2=(11,13,15)\n",
        "a=t1+t2\n",
        "print(t1+t2)\n",
        "#d\n",
        "a=(1, 2, 5, 7, 9, 2, 4, 6, 8, 10, 11, 13, 15)\n",
        "b=max(a)  \n",
        "c=min(a)\n",
        "print(b)\n",
        "print(c)\n"
      ]
    }
  ]
}