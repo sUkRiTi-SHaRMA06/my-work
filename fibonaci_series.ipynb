{
  "nbformat": 4,
  "nbformat_minor": 0,
  "metadata": {
    "colab": {
      "name": "fibonaci series.ipynb",
      "provenance": [],
      "toc_visible": true
    },
    "kernelspec": {
      "name": "python3",
      "display_name": "Python 3"
    },
    "language_info": {
      "name": "python"
    }
  },
  "cells": [
    {
      "cell_type": "code",
      "execution_count": 12,
      "metadata": {
        "colab": {
          "base_uri": "https://localhost:8080/"
        },
        "id": "9usjvJOh_Z-p",
        "outputId": "49df0edc-3f7c-4c4b-f4e8-57e74dc3f24d"
      },
      "outputs": [
        {
          "output_type": "stream",
          "name": "stdout",
          "text": [
            "enter number of terms to be printed6\n",
            "0 1 1 2 3 5 "
          ]
        }
      ],
      "source": [
        "#Write a Python function to generate the Fibonacci sequence till a given number “n”\n",
        "a=0\n",
        "b=1\n",
        "n=int(input(\"enter number of terms to be printed\"))\n",
        "print(a,b,end=' ')\n",
        "for i in range(3,n+1):\n",
        "   c=a+b\n",
        "   print(c,end=' ')\n",
        "   a=b\n",
        "   b=c\n"
      ]
    },
    {
      "cell_type": "code",
      "source": [
        ""
      ],
      "metadata": {
        "id": "ipXECIOONryb"
      },
      "execution_count": null,
      "outputs": []
    },
    {
      "cell_type": "code",
      "source": [
        ""
      ],
      "metadata": {
        "id": "lrh03B-_Nr1i"
      },
      "execution_count": null,
      "outputs": []
    }
  ]
}