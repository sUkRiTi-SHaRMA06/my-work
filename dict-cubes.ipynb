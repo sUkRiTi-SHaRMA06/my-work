{
  "nbformat": 4,
  "nbformat_minor": 0,
  "metadata": {
    "colab": {
      "name": "Untitled12.ipynb",
      "provenance": []
    },
    "kernelspec": {
      "name": "python3",
      "display_name": "Python 3"
    },
    "language_info": {
      "name": "python"
    }
  },
  "cells": [
    {
      "cell_type": "code",
      "execution_count": 10,
      "metadata": {
        "colab": {
          "base_uri": "https://localhost:8080/"
        },
        "id": "VwSPKrKgiNWg",
        "outputId": "f58028a8-e8d4-43f4-b056-6ed44477ebae"
      },
      "outputs": [
        {
          "output_type": "stream",
          "name": "stdout",
          "text": [
            "{1: 1, 2: 8, 3: 27, 4: 64, 5: 125}\n"
          ]
        }
      ],
      "source": [
        "#Write a Python function that prints a dictionary where the keys are numbers between 1 and 5 and the values are cubes of the keys\n",
        "mydict={}\n",
        "a=mydict\n",
        "for item in range(1,6):\n",
        "    a[item]=item**3\n",
        "print(a)"
      ]
    }
  ]
}