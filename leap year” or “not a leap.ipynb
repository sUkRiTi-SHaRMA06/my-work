{
  "nbformat": 4,
  "nbformat_minor": 0,
  "metadata": {
    "colab": {
      "name": "Untitled11.ipynb",
      "provenance": [],
      "toc_visible": true
    },
    "kernelspec": {
      "name": "python3",
      "display_name": "Python 3"
    },
    "language_info": {
      "name": "python"
    }
  },
  "cells": [
    {
      "cell_type": "code",
      "execution_count": 9,
      "metadata": {
        "colab": {
          "base_uri": "https://localhost:8080/"
        },
        "id": "oSV0_gp6iCql",
        "outputId": "d84ee8d1-21e9-4cf9-8be5-61de2c33761d"
      },
      "outputs": [
        {
          "output_type": "stream",
          "name": "stdout",
          "text": [
            "enter a year2013\n",
            "2013 its not a leap year\n"
          ]
        }
      ],
      "source": [
        "#5. Write a program that reads an integer value and prints “leap year” or “not a leap\n",
        "\n",
        "a=int(input(\"enter a year\"))\n",
        "if(a%400==0):\n",
        "    print(a, \"its a leap year\")\n",
        "elif(a%100==0):\n",
        "    print(a, \"its a leap year\")\n",
        "elif(a%4==0):\n",
        "    print(a, \"its a leap year\")\n",
        "else:\n",
        "    print(a, \"its not a leap year\") "
      ]
    }
  ]
}