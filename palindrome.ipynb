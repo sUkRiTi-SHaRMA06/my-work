{
  "nbformat": 4,
  "nbformat_minor": 0,
  "metadata": {
    "colab": {
      "name": "Untitled9.ipynb",
      "provenance": []
    },
    "kernelspec": {
      "name": "python3",
      "display_name": "Python 3"
    },
    "language_info": {
      "name": "python"
    }
  },
  "cells": [
    {
      "cell_type": "code",
      "execution_count": null,
      "metadata": {
        "id": "GH9iq2upOpJS"
      },
      "outputs": [],
      "source": [
        "# Write a Python function that takes a string as an input from the user and determines whether it is palindrome or not.\n",
        "a=input(\"enter a word or sequence of words to determine whether it is a palindrome or not :\")\n",
        "if(a==a[::-1]):\n",
        "   print(\"yes, it is a palindrome\")\n",
        "else:\n",
        "  print(\"no, it is not a palindrome\")"
      ]
    }
  ]
}